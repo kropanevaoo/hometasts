{
 "cells": [
  {
   "cell_type": "code",
   "execution_count": null,
   "metadata": {},
   "outputs": [],
   "source": [
    "#Задача_2\n",
    "a = input(\"Ввод:\")\n",
    "if a == True:\n",
    "    print(\"Истина\")\n",
    "elif a == False:\n",
    "    print(\"Ложь\")\n",
    "elif a == '':\n",
    "    print(\"Введите какое-либо значение\")\n",
    "else:\n",
    "    print(\"Введенные данные не поддерживаются\")"
   ]
  },
  {
   "cell_type": "code",
   "execution_count": null,
   "metadata": {},
   "outputs": [],
   "source": [
    "#Задача_2\n",
    "a = input(\"Ввод:\")\n",
    "if a == True:\n",
    "    print(\"Истина\")\n",
    "elif a == False:\n",
    "    print(\"Ложь\")\n",
    "elif a == '':\n",
    "    print(\"Введите какое-либо значение\")\n",
    "else:\n",
    "    print(\"Введенные данные не поддерживаются\")"
   ]
  },
  {
   "cell_type": "code",
   "execution_count": null,
   "metadata": {},
   "outputs": [],
   "source": [
    "#Задача_3\n",
    "x = int(input(\"Введите х:\"))\n",
    "bool = x**2 - 6>-x and x>0\n",
    "print(x,\"(\",bool,\")\") \n"
   ]
  },
  {
   "cell_type": "code",
   "execution_count": null,
   "metadata": {},
   "outputs": [],
   "source": [
    "#Задача_5\n",
    "str_1= input(\"Введите строку:\")\n",
    "str_2= input(\"Введите строку:\")\n",
    "if len(str_1)>len(str_2) and str_1<str_2:\n",
    "    print(\"Удовлетворяет условию\")\n",
    "else:\n",
    "    print(\"Ошибка\")"
   ]
  },
  {
   "cell_type": "code",
   "execution_count": null,
   "metadata": {},
   "outputs": [],
   "source": [
    "#Задача_6\n",
    "str = input(\"Введите строку:\")\n",
    "if \"!!!\" in str and \"???\" not in str:\n",
    "    print(\"exclaim\")\n",
    "if str[0] == \"!!!\":\n",
    "    print(\"Nota bene:\", str - str[0])\n",
    "if \"???\" in str and \"!!!\" not in str:\n",
    "        print(\"question\")\n",
    "if \"!!!\" and \"???\" in str:\n",
    "    print(\"\")\n",
    "if \"!!!\" and \"???\" not in str:\n",
    "    print(\"random\")"
   ]
  },
  {
   "cell_type": "code",
   "execution_count": null,
   "metadata": {},
   "outputs": [],
   "source": [
    "#Задача_7\n",
    "x = input(\"Введите х:\")\n",
    "y = input(\"Введите у:\")\n",
    "friend = x if \"banana\" in x else y\n",
    "print(\"Значение переменной friend:\",friend)"
   ]
  },
  {
   "cell_type": "code",
   "execution_count": null,
   "metadata": {},
   "outputs": [],
   "source": [
    "#Задача_9\n",
    "a = int(input(\"Введите a:\"))\n",
    "b = int(input(\"Введите b:\"))\n",
    "c = int(input(\"Введите с:\"))\n",
    "if (b**2- 4*a*c)>0:\n",
    "    x_1 = (-b + (b**2- 4*a*c)**(1/2))/(2*a)\n",
    "    x_2 = (-b - (b**2- 4*a*c)**(1/2))/(2*a)\n",
    "    print(\"Корни уравнения:\",x_1 ,\"и\", x_2)\n",
    "elif (b**2- 4*a*c)==0:\n",
    "    x_3 =(-b/(2*a))\n",
    "    print(\"Уравнение имеет единственное решение:\", x_3)\n",
    "else:\n",
    "    print(\"Нет корней\")"
   ]
  },
  {
   "cell_type": "code",
   "execution_count": null,
   "metadata": {},
   "outputs": [],
   "source": [
    "#Задача_10\n",
    "a = int(input(\"Введите a:\"))\n",
    "b = int(input(\"Введите b:\"))\n",
    "c = int(input(\"Введите с:\"))\n",
    "if a>c and a>b:\n",
    "    print(\"Наибольшее число:\", a)\n",
    "elif c>a and c>b:\n",
    "    print(\"Наибольшее число\", c)\n",
    "else:\n",
    "    print(\"Наибольшее число:\", b)"
   ]
  },
  {
   "cell_type": "code",
   "execution_count": null,
   "metadata": {},
   "outputs": [],
   "source": [
    "#Задача_11:\n",
    "a = int(input(\"Введите отрезок а:\"))\n",
    "b = int(input(\"Введите отрезок b:\"))\n",
    "c = int(input(\"Введите отрезок c:\"))\n",
    "if a + b <= c or a + c <= b or b + c <= a:\n",
    "    print(\"Невозможно построить треугольник\")\n",
    "elif a != b and a != c and b != c:\n",
    "    print(\"Возможно построить разносторонний треугольник\")\n",
    "elif a == b == c:\n",
    "    print(\"Возможно построить равносторонний треугольник\")\n",
    "else:\n",
    "    print(\"Возможно построить равнобедренный треугольник\")"
   ]
  },
  {
   "cell_type": "code",
   "execution_count": null,
   "metadata": {},
   "outputs": [],
   "source": [
    "#Задача_12\n",
    "x = int(input(\"Введите координату х:\"))\n",
    "y = int(input(\"Введите координату у:\"))\n",
    "if x>0 and y>0:\n",
    "    print(\"Точка лежит в первой плоскости\")\n",
    "elif x<0 and y>0:\n",
    "    print(\"Точка лежит во второй плоскости\")\n",
    "elif x<0 and y<0:\n",
    "    print(\"Точка лежит в третьей плоскости\")\n",
    "else:\n",
    "    print(\"Точка лежит в четвертой плоскости\")"
   ]
  },
  {
   "cell_type": "code",
   "execution_count": null,
   "metadata": {},
   "outputs": [],
   "source": [
    "#Задача_13\n",
    "a = input(\"Введите градус:\").split(\"_\")\n",
    "print((int(a[0]) * 9 / 5) + 32 if a[1] == \"C\" else (int(a[0]) - 32) * 5 / 9)"
   ]
  }
 ],
 "metadata": {
  "kernelspec": {
   "display_name": "Python 3",
   "language": "python",
   "name": "python3"
  },
  "language_info": {
   "codemirror_mode": {
    "name": "ipython",
    "version": 3
   },
   "file_extension": ".py",
   "mimetype": "text/x-python",
   "name": "python",
   "nbconvert_exporter": "python",
   "pygments_lexer": "ipython3",
   "version": "3.8.5"
  }
 },
 "nbformat": 4,
 "nbformat_minor": 4
}
