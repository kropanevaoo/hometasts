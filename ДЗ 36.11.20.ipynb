{
 "cells": [
  {
   "cell_type": "code",
   "execution_count": 4,
   "metadata": {},
   "outputs": [
    {
     "name": "stdout",
     "output_type": "stream",
     "text": [
      "jdhcbe\n"
     ]
    }
   ],
   "source": [
    "# coding: utf-8\n",
    "\n",
    "# # Циклы\n",
    "\n",
    "# 1) С помощью цикла for сравнить две произвольные строки и вывести строку, состоящую из общих символов исходных строк.\n",
    " a = \"sjdhcbeieubcaiw\"\n",
    " b = \"jecb384bvhknldf\"\n",
    " c = \"\"\n",
    " for i in a:\n",
    "    if i in b and i not in c:\n",
    "        c+=i\n",
    " print(c) \n",
    "    a = \"sjdhcbeieubcaiw\"\n",
    " b = \"jecb384bvhknldf\"\n",
    " c = \"\"\n",
    " for i in a:\n",
    "    if i in b and i not in c:\n",
    "        c+=i\n",
    " print(c)"
   ]
  },
  {
   "cell_type": "code",
   "execution_count": 6,
   "metadata": {},
   "outputs": [
    {
     "name": "stdout",
     "output_type": "stream",
     "text": [
      "Введите число: 13\n",
      "135135\n"
     ]
    }
   ],
   "source": [
    "# 2) С помощью цикла while ассчитать двойной факториал для произвольного числа. Двойной факториал *n!!* числа n рассчитывается как произведение всех чисел, меньших исходного на числа, кратные двум (вплоть до 1 или 2). Например: 7!! = 7 \\* 5 \\* 3 \\* 1 = 105\n",
    "n = int(input('Введите число: '))\n",
    "result = 1\n",
    "while n>=1:\n",
    "    result *= n\n",
    "    n -= 2\n",
    "print(result)"
   ]
  },
  {
   "cell_type": "code",
   "execution_count": 9,
   "metadata": {},
   "outputs": [
    {
     "name": "stdout",
     "output_type": "stream",
     "text": [
      "Введите число: 13\n",
      "Результат -  3\n",
      "Результат -  15\n",
      "Результат -  105\n",
      "Результат -  945\n",
      "Результат -  10395\n",
      "Результат -  135135\n"
     ]
    }
   ],
   "source": [
    "# 3) Решить предыдущую задачу с помощью цикла for.\n",
    "n = int(input(\"Введите число: \"))\n",
    "start = 1 if n%2 else 2\n",
    "for i in range (start + 2, n + 1, 2):\n",
    "    start *= i\n",
    "    print(\"Результат - \", start)"
   ]
  },
  {
   "cell_type": "code",
   "execution_count": 16,
   "metadata": {},
   "outputs": [
    {
     "name": "stdout",
     "output_type": "stream",
     "text": [
      "Введите первое число: 1\n",
      "Введите второе число: 13\n",
      "Результат 2\n",
      "Результат 3\n",
      "Результат 5\n",
      "Результат 7\n",
      "Результат 11\n",
      "Результат 13\n"
     ]
    }
   ],
   "source": [
    "# 4) Вывести все простые числа в произвольном интервале [a, b], используя вложенные for и конструкцию for-else.\n",
    "n = int(input(\"Введите первое число: \"))\n",
    "m = int(input(\"Введите второе число: \"))\n",
    "for i in range(n+1, m+1):\n",
    "    if i>1:\n",
    "        for k in range(2, i):\n",
    "            if i%k == 0:\n",
    "                break\n",
    "        else:\n",
    "            print(\"Результат\",i)"
   ]
  },
  {
   "cell_type": "code",
   "execution_count": 19,
   "metadata": {},
   "outputs": [
    {
     "name": "stdout",
     "output_type": "stream",
     "text": [
      "Введите строку:Hello world!\n",
      "['H', 'e', 'l', 'l', ' ', '!']\n"
     ]
    }
   ],
   "source": [
    "# 6) Для произвольной строки вывести те символы, номера которых в строке (не индексы!) делят длину строки без остатка. Для строки \"Hello world!\" должно выводиться \"Hell !\".\n",
    "n = input(\"Введите строку:\")\n",
    "m = []\n",
    "for i in range(len(n)):\n",
    "    if len(n)%(i+1) == 0:\n",
    "        m += n[i]\n",
    "print(m)"
   ]
  }
 ],
 "metadata": {
  "kernelspec": {
   "display_name": "Python 3",
   "language": "python",
   "name": "python3"
  },
  "language_info": {
   "codemirror_mode": {
    "name": "ipython",
    "version": 3
   },
   "file_extension": ".py",
   "mimetype": "text/x-python",
   "name": "python",
   "nbconvert_exporter": "python",
   "pygments_lexer": "ipython3",
   "version": "3.8.5"
  }
 },
 "nbformat": 4,
 "nbformat_minor": 4
}
